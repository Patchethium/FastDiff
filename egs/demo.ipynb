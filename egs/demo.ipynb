{
 "cells": [
  {
   "cell_type": "code",
   "execution_count": null,
   "metadata": {
    "collapsed": true,
    "pycharm": {
     "name": "#%%\n"
    }
   },
   "outputs": [],
   "source": [
    "import librosa\n",
    "import numpy as np\n",
    "import torch\n",
    "# from audio_processing import dynamic_range_decompression\n",
    "# from audio_processing import dynamic_range_compression\n",
    "from modules.FastDiff.module.FastDiff_model import FastDiff\n",
    "from utils import audio\n",
    "from modules.FastDiff.module.util import compute_hyperparams_given_schedule, sampling_given_noise_schedule\n",
    "import IPython.display as ipd\n",
    "\n",
    "# download checkpoint to this folder\n",
    "state_dict = torch.load(\"pretrained_models/LJSpeech/model_ckpt_steps_500000.ckpt\")[\"state_dict\"][\"model\"]\n",
    "model = FastDiff().cuda()\n",
    "model.load_state_dict(state_dict)\n",
    "\n",
    "# hparams (donot change)\n",
    "fft_size, hop_size, win_length = 1024, 256, 1024\n",
    "window=\"hann\"\n",
    "num_mels=80\n",
    "fmin, fmax=80, 7600\n",
    "eps=1e-6\n",
    "sample_rate=22050"
   ]
  },
  {
   "cell_type": "code",
   "execution_count": null,
   "outputs": [],
   "source": [
    "# get diffusion schedule\n",
    "train_noise_schedule = torch.linspace(1e-06, 0.01, 1000).cuda()\n",
    "diffusion_hyperparams = compute_hyperparams_given_schedule(train_noise_schedule)\n",
    "\n",
    "# map diffusion hyperparameters to gpu\n",
    "for key in diffusion_hyperparams:\n",
    "    if key in [\"beta\", \"alpha\", \"sigma\"]:\n",
    "        diffusion_hyperparams[key] = diffusion_hyperparams[key].cuda()\n",
    "diffusion_hyperparams = diffusion_hyperparams\n",
    "\n",
    "# load noise schedule for 6 sampling steps (recommended)\n",
    "#noise_schedule = torch.FloatTensor([1.7838445955931093e-06, 2.7984189728158526e-05, 0.00043231004383414984,\n",
    "                                  # 0.006634317338466644, 0.09357017278671265, 0.6000000238418579]).cuda()\n",
    "# load noise schedule for 4 sampling steps\n",
    "noise_schedule = torch.FloatTensor([3.2176e-04, 2.5743e-03, 2.5376e-02, 7.0414e-01]).cuda()"
   ],
   "metadata": {
    "collapsed": false,
    "pycharm": {
     "name": "#%%\n"
    }
   }
  },
  {
   "cell_type": "code",
   "execution_count": null,
   "outputs": [],
   "source": [
    "# Direct inference from wavefroms #\n",
    "\n",
    "wav, _ = librosa.core.load('egs/audios/LJ001-0001_gt.wav', sr=22050)\n",
    "# get amplitude spectrogram\n",
    "x_stft = librosa.stft(wav, n_fft=fft_size, hop_length=hop_size,\n",
    "                        win_length=win_length, window=window, pad_mode=\"constant\")\n",
    "spc = np.abs(x_stft)  # (n_bins, T)\n",
    "\n",
    "# get mel basis\n",
    "fmin = 0 if fmin == -1 else fmin\n",
    "fmax = sample_rate / 2 if fmax == -1 else fmax\n",
    "mel_basis = librosa.filters.mel(sample_rate, fft_size, num_mels, fmin, fmax)\n",
    "mel = mel_basis @ spc\n",
    "mel = np.log10(np.maximum(eps, mel))  # (n_mel_bins, T)\n",
    "mel = torch.from_numpy(mel).cuda()"
   ],
   "metadata": {
    "collapsed": false,
    "pycharm": {
     "name": "#%%\n"
    }
   }
  },
  {
   "cell_type": "code",
   "execution_count": null,
   "outputs": [],
   "source": [
    "audio_length = mel.shape[-1] * hop_size\n",
    "pred_wav = sampling_given_noise_schedule(\n",
    "    model, (1, 1, audio_length), diffusion_hyperparams, noise_schedule,\n",
    "    condition=mel, ddim=False, return_sequence=False)\n",
    "\n",
    "pred_wav = pred_wav / pred_wav.abs().max()\n",
    "pred_wav = pred_wav.view(-1).cpu().float().numpy()\n",
    "audio.save_wav(pred_wav, 'egs/audios/test.wav', 22050)\n",
    "ipd.Audio(pred_wav, rate=sample_rate) "
   ],
   "metadata": {
    "collapsed": false,
    "pycharm": {
     "name": "#%%\n"
    }
   }
  }
 ],
 "metadata": {
  "kernelspec": {
   "display_name": "Python 3",
   "language": "python",
   "name": "python3"
  },
  "language_info": {
   "codemirror_mode": {
    "name": "ipython",
    "version": 2
   },
   "file_extension": ".py",
   "mimetype": "text/x-python",
   "name": "python",
   "nbconvert_exporter": "python",
   "pygments_lexer": "ipython2",
   "version": "2.7.6"
  }
 },
 "nbformat": 4,
 "nbformat_minor": 0
}